{
 "cells": [
  {
   "cell_type": "code",
   "execution_count": 3,
   "id": "196b4037-dd37-4545-9723-58e4bcf2f9fe",
   "metadata": {},
   "outputs": [
    {
     "name": "stdout",
     "output_type": "stream",
     "text": [
      "Name: plotly\n",
      "Version: 6.0.0\n",
      "Summary: An open-source, interactive data visualization library for Python\n",
      "Home-page: https://plotly.com/python/\n",
      "Author: Chris P\n",
      "Author-email: chris@plot.ly\n",
      "License: MIT\n",
      "Location: C:\\ProgramData\\anaconda3\\Lib\\site-packages\n",
      "Requires: narwhals, packaging\n",
      "Required-by: \n",
      "---\n",
      "Name: jupyterlab_widgets\n",
      "Version: 3.0.13\n",
      "Summary: Jupyter interactive widgets for JupyterLab\n",
      "Home-page: https://github.com/jupyter-widgets/ipywidgets\n",
      "Author: Jupyter Development Team\n",
      "Author-email: jupyter@googlegroups.com\n",
      "License: BSD-3-Clause\n",
      "Location: C:\\ProgramData\\anaconda3\\Lib\\site-packages\n",
      "Requires: \n",
      "Required-by: ipywidgets\n",
      "---\n",
      "Name: panel\n",
      "Version: 1.6.0\n",
      "Summary: The powerful data exploration & web app framework for Python.\n",
      "Home-page: https://panel.holoviz.org\n",
      "Author: \n",
      "Author-email: HoloViz developers <developers@holoviz.org>\n",
      "License: BSD\n",
      "Location: C:\\ProgramData\\anaconda3\\Lib\\site-packages\n",
      "Requires: bleach, bokeh, linkify-it-py, markdown, markdown-it-py, mdit-py-plugins, packaging, pandas, param, pyviz-comms, requests, tqdm, typing-extensions\n",
      "Required-by: aext-panels, aext-panels-server, holoviews, hvplot\n",
      "---\n",
      "Name: ipywidgets\n",
      "Version: 8.1.5\n",
      "Summary: Jupyter interactive widgets\n",
      "Home-page: http://jupyter.org\n",
      "Author: Jupyter Development Team\n",
      "Author-email: jupyter@googlegroups.com\n",
      "License: BSD 3-Clause License\n",
      "Location: C:\\ProgramData\\anaconda3\\Lib\\site-packages\n",
      "Requires: comm, ipython, jupyterlab_widgets, traitlets, widgetsnbextension\n",
      "Required-by: anywidget, bqplot, ipydatagrid, jupyter\n",
      "---\n",
      "Name: anywidget\n",
      "Version: 0.9.13\n",
      "Summary: custom jupyter widgets made easy\n",
      "Home-page: https://github.com/manzt/anywidget\n",
      "Author: \n",
      "Author-email: Trevor Manz <trevor.j.manz@gmail.com>\n",
      "License: MIT\n",
      "Location: C:\\ProgramData\\anaconda3\\Lib\\site-packages\n",
      "Requires: ipywidgets, psygnal, typing-extensions\n",
      "Required-by: \n"
     ]
    }
   ],
   "source": [
    "!pip show plotly jupyterlab_widgets panel ipywidgets anywidget"
   ]
  },
  {
   "cell_type": "code",
   "execution_count": null,
   "id": "10fec1ac-0078-4ae9-abee-530ef4b511ca",
   "metadata": {},
   "outputs": [],
   "source": []
  }
 ],
 "metadata": {
  "kernelspec": {
   "display_name": "Python [conda env:base] *",
   "language": "python",
   "name": "conda-base-py"
  },
  "language_info": {
   "codemirror_mode": {
    "name": "ipython",
    "version": 3
   },
   "file_extension": ".py",
   "mimetype": "text/x-python",
   "name": "python",
   "nbconvert_exporter": "python",
   "pygments_lexer": "ipython3",
   "version": "3.12.3"
  },
  "widgets": {
   "application/vnd.jupyter.widget-state+json": {
    "state": {},
    "version_major": 2,
    "version_minor": 0
   }
  }
 },
 "nbformat": 4,
 "nbformat_minor": 5
}
